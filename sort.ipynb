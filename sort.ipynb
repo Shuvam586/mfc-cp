{
 "cells": [
  {
   "cell_type": "code",
   "execution_count": 30,
   "metadata": {},
   "outputs": [],
   "source": [
    "import random\n",
    "import time"
   ]
  },
  {
   "cell_type": "code",
   "execution_count": 31,
   "metadata": {},
   "outputs": [],
   "source": [
    "l = [random.randint(1, 20000) for _ in range(10000)]"
   ]
  },
  {
   "cell_type": "code",
   "execution_count": 32,
   "metadata": {},
   "outputs": [],
   "source": [
    "def bubble(l):\n",
    "    ln = l.copy()\n",
    "    sorted = False\n",
    "    while not sorted:\n",
    "        sorts = 0\n",
    "        for i in range(len(ln)-1):\n",
    "            if ln[i]>ln[i+1]:\n",
    "                ln[i], ln[i+1] = ln[i+1], ln[i]\n",
    "                sorts+=1\n",
    "        if sorts==0:\n",
    "            sorted = True\n",
    "    return ln"
   ]
  },
  {
   "cell_type": "code",
   "execution_count": 33,
   "metadata": {},
   "outputs": [],
   "source": [
    "def insertion(l):\n",
    "    ln = l.copy()\n",
    "    for i in range(1, len(ln)):\n",
    "        k = ln[i]\n",
    "        j = i-1\n",
    "        while j>=0 and ln[j]>k:\n",
    "            ln[j + 1] = ln[j]\n",
    "            j-=1\n",
    "        ln[j+1] = k\n",
    "    return ln"
   ]
  },
  {
   "cell_type": "code",
   "execution_count": 34,
   "metadata": {},
   "outputs": [],
   "source": [
    "def quick(l):\n",
    "    ln=l.copy()\n",
    "    if len(ln) <= 1:\n",
    "        return ln\n",
    "\n",
    "    pivot = ln[len(ln) // 2]\n",
    "    left = [x for x in ln if x < pivot]\n",
    "    middle = [x for x in ln if x == pivot]\n",
    "    right = [x for x in ln if x > pivot]\n",
    "\n",
    "    return quick(left) + middle + quick(right)"
   ]
  },
  {
   "cell_type": "code",
   "execution_count": 35,
   "metadata": {},
   "outputs": [],
   "source": [
    "def timeherewego(fn, l):\n",
    "    start = time.time()\n",
    "    fn(l)\n",
    "    end = time.time()\n",
    "    return end-start"
   ]
  },
  {
   "cell_type": "code",
   "execution_count": 36,
   "metadata": {},
   "outputs": [
    {
     "name": "stdout",
     "output_type": "stream",
     "text": [
      "5.7978434562683105\n"
     ]
    }
   ],
   "source": [
    "print(timeherewego(bubble, l))"
   ]
  },
  {
   "cell_type": "code",
   "execution_count": 37,
   "metadata": {},
   "outputs": [
    {
     "name": "stdout",
     "output_type": "stream",
     "text": [
      "1.337981939315796\n"
     ]
    }
   ],
   "source": [
    "print(timeherewego(insertion, l))"
   ]
  },
  {
   "cell_type": "code",
   "execution_count": 38,
   "metadata": {},
   "outputs": [
    {
     "name": "stdout",
     "output_type": "stream",
     "text": [
      "0.016994714736938477\n"
     ]
    }
   ],
   "source": [
    "print(timeherewego(quick, l))"
   ]
  }
 ],
 "metadata": {
  "kernelspec": {
   "display_name": "Python 3",
   "language": "python",
   "name": "python3"
  },
  "language_info": {
   "codemirror_mode": {
    "name": "ipython",
    "version": 3
   },
   "file_extension": ".py",
   "mimetype": "text/x-python",
   "name": "python",
   "nbconvert_exporter": "python",
   "pygments_lexer": "ipython3",
   "version": "3.11.0"
  }
 },
 "nbformat": 4,
 "nbformat_minor": 2
}
